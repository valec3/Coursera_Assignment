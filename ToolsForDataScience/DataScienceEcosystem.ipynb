{
  "nbformat": 4,
  "nbformat_minor": 0,
  "metadata": {
    "colab": {
      "provenance": []
    },
    "kernelspec": {
      "name": "python3",
      "display_name": "Python 3"
    },
    "language_info": {
      "name": "python"
    }
  },
  "cells": [
    {
      "cell_type": "markdown",
      "source": [
        "# **Data Science Tools and Ecosystem**"
      ],
      "metadata": {
        "id": "yGJSeWGuFMqk"
      }
    },
    {
      "cell_type": "markdown",
      "source": [
        "In this notebook, Data Science Tools and Ecosystem are summarized."
      ],
      "metadata": {
        "id": "JtbhRksaGdBf"
      }
    },
    {
      "cell_type": "markdown",
      "source": [
        "Objectives:\n",
        "\n",
        "- List popular languages for Data Science.\n",
        "- Explore commonly used libraries in Data Science.\n",
        "- Understand basic arithmetic operations in Python and Jupyter Notebook.\n",
        "- Convert minutes to hours using Python calculations."
      ],
      "metadata": {
        "id": "8d4xlQaQKaj-"
      }
    },
    {
      "cell_type": "markdown",
      "source": [
        "Some of the popular languages that Data Scientists use are:\n",
        "\n",
        "1. Python\n",
        "2. R\n",
        "3. Julia\n",
        "4. SQL\n",
        "5. Java\n",
        "6. Scala\n",
        "7. MATLAB\n",
        "8. C++\n",
        "9. Ruby\n",
        "10. SAS"
      ],
      "metadata": {
        "id": "qbVTQ6FBG2vW"
      }
    },
    {
      "cell_type": "markdown",
      "source": [
        "Some of the commonly used libraries used by Data Scientists include:\n",
        "\n",
        "1. NumPy\n",
        "2. Pandas\n",
        "3. Matplotlib\n",
        "4. Seaborn\n",
        "5. Scikit-learn\n",
        "6. TensorFlow\n",
        "7. PyTorch\n",
        "8. Keras\n",
        "9. NLTK\n",
        "10. OpenCV"
      ],
      "metadata": {
        "id": "8ROcT0O-H9dp"
      }
    },
    {
      "cell_type": "markdown",
      "source": [
        "| Data Science Tools    |\n",
        "|-----------------------|\n",
        "| Jupyter Notebook     |\n",
        "| RStudio              |\n",
        "| Visual Studio Code   |\n"
      ],
      "metadata": {
        "id": "ECDiBgxtIRUz"
      }
    },
    {
      "cell_type": "markdown",
      "source": [
        "### Below are a few examples of evaluating arithmetic expressions in Python"
      ],
      "metadata": {
        "id": "BksviNgnIlNS"
      }
    },
    {
      "cell_type": "code",
      "source": [
        "#This a simple arithmetic expression to mutiply then add integers\n",
        "\n",
        "(3*4)+5"
      ],
      "metadata": {
        "colab": {
          "base_uri": "https://localhost:8080/"
        },
        "id": "zukdW9S0HCVx",
        "outputId": "71113473-09ab-488a-9b2d-b6eae91302fc"
      },
      "execution_count": 2,
      "outputs": [
        {
          "output_type": "execute_result",
          "data": {
            "text/plain": [
              "17"
            ]
          },
          "metadata": {},
          "execution_count": 2
        }
      ]
    },
    {
      "cell_type": "code",
      "source": [
        "#This will convert 200 minutes to hours by diving by 60\n",
        "minutes = 200\n",
        "hours = 200/60\n",
        "hours\n",
        "\n"
      ],
      "metadata": {
        "colab": {
          "base_uri": "https://localhost:8080/"
        },
        "id": "JoF_Z8nEI2tQ",
        "outputId": "0dca6b52-e6ac-465a-bbf4-1bb68d8ee08c"
      },
      "execution_count": 3,
      "outputs": [
        {
          "output_type": "execute_result",
          "data": {
            "text/plain": [
              "3.3333333333333335"
            ]
          },
          "metadata": {},
          "execution_count": 3
        }
      ]
    },
    {
      "cell_type": "markdown",
      "source": [
        "## Author\n",
        "Maye Mamani Victor Raul"
      ],
      "metadata": {
        "id": "7kMJe61lK0sw"
      }
    }
  ]
}